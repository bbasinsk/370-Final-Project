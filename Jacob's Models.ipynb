{
 "cells": [
  {
   "cell_type": "code",
   "execution_count": 1,
   "metadata": {},
   "outputs": [],
   "source": [
    "import pandas as pd\n",
    "import numpy as np\n",
    "from sklearn.metrics import accuracy_score\n",
    "\n",
    "listings_df = pd.read_csv('./data/with_amenities_and_estimated_income.csv', low_memory = False)\n",
    "#listings_df.columns.values\n",
    "missing_values_count = listings_df.isnull().sum()\n",
    "missing_values_count\n",
    "\n",
    "listings_df = listings_df[np.isfinite(listings_df['estimated_income_per_month'])]\n",
    "\n",
    "#numerics = ['int16', 'int32', 'int64', 'float16', 'float32', 'float64']\n",
    "\n",
    "listings_df = listings_df._get_numeric_data()\n",
    "\n",
    "#thresh = len(listings_df) * .95\n",
    "#listings_df = listings_df.dropna(thresh = thresh, axis = 1, inplace = True)\n",
    "\n",
    "listings_df = listings_df[listings_df.columns[listings_df.isnull().mean() < 0.00005]]\n",
    "listings_df = listings_df.dropna(how='any',axis=0) \n",
    "#missing_values_count = listings_df.isnull().sum()\n",
    "#missing_values_count\n",
    "#len(listings)\n"
   ]
  },
  {
   "cell_type": "code",
   "execution_count": 2,
   "metadata": {},
   "outputs": [],
   "source": [
    "from sklearn.model_selection import train_test_split # splitting data\n",
    "\n",
    "train_features, test_features, train_outcome, test_outcome = train_test_split(\n",
    "    listings_df.drop([\"estimated_income_per_month\"], axis=1),\n",
    "    listings_df['estimated_income_per_month'],\n",
    "    test_size=0.30, \n",
    "    random_state=11\n",
    ")\n",
    "\n"
   ]
  },
  {
   "cell_type": "code",
   "execution_count": 7,
   "metadata": {},
   "outputs": [
    {
     "data": {
      "text/plain": [
       "array(['Unnamed: 0', 'id', 'scrape_id', 'host_id', 'host_listings_count',\n",
       "       'host_total_listings_count', 'latitude', 'longitude',\n",
       "       'accommodates', 'guests_included', 'minimum_nights',\n",
       "       'maximum_nights', 'availability_30', 'availability_60',\n",
       "       'availability_90', 'availability_365', 'number_of_reviews',\n",
       "       'calculated_host_listings_count', 'reviews_per_month', 'Other',\n",
       "       'translation missing: en.hosting_amenity_49', 'Outdoor seating',\n",
       "       'Pets allowed', 'Pool', 'Electric profiling bed', 'EV charger',\n",
       "       'Beach essentials', 'High chair', 'Warming drawer',\n",
       "       'Fixed grab bars for toilet', 'Heat lamps', 'Bed linens',\n",
       "       'Dishwasher', 'Breakfast', 'Hot tub', 'Kitchenette',\n",
       "       'Long term stays allowed', 'Rain shower', 'Sound system',\n",
       "       'Well-lit path to entrance', 'Bathtub', 'Handheld shower head',\n",
       "       'Espresso machine', 'Game console', 'Wide doorway',\n",
       "       'Accessible-height bed', 'Washer', 'Single level home',\n",
       "       'Cleaning before checkout', 'Coffee maker', 'Building staff',\n",
       "       'Hair dryer', 'Laptop friendly workspace', 'Firm mattress',\n",
       "       'Projector and screen', 'Shampoo', 'En suite bathroom',\n",
       "       'Smart lock', 'Shared gym', 'Fireplace guards',\n",
       "       'Bathroom essentials', 'Wide hallway clearance', 'TV',\n",
       "       'translation missing: en.hosting_amenity_50',\n",
       "       'Pack ’n Play/travel crib', 'Balcony', 'Dishes and silverware',\n",
       "       'Washer / Dryer', 'Microwave', 'Ethernet connection',\n",
       "       'Luggage dropoff allowed', ' toilet', 'Waterfront',\n",
       "       'Outlet covers', 'Family/kid friendly', 'Baby bath', 'Stair gates',\n",
       "       'Room-darkening shades', 'Mini fridge',\n",
       "       'Children’s books and toys', 'Air purifier', 'Fire pit', 'Stove',\n",
       "       'Soaking tub', 'Window guards', 'Crib', 'Host greets you',\n",
       "       'Table corner guards', 'Beach view', 'Wine cooler', 'Keypad',\n",
       "       'Shared hot tub', 'Oven', 'Smoke detector', 'Hangers', 'Dog(s)',\n",
       "       'Terrace', 'Disabled parking spot', 'Shower chair', 'Dryer',\n",
       "       'Full kitchen', 'Doorman', 'Paid parking off premises', 'Netflix',\n",
       "       'DVD player', 'Garden or backyard', 'Pool with pool hoist',\n",
       "       'Hammock', 'Heating', 'BBQ grill', 'Kitchen', 'Cable TV',\n",
       "       'Carbon monoxide detector', 'Pillow-top mattress', 'Gas oven',\n",
       "       'Suitable for events', 'Bath towel', 'Wide clearance to bed',\n",
       "       'Other pet(s)', 'Memory foam mattress', 'Printer',\n",
       "       'Step-free access', 'Patio or balcony', 'Breakfast table',\n",
       "       'Children’s dinnerware', 'Convection oven', 'Heated floors',\n",
       "       'Private living room', 'Smart TV', 'Refrigerator',\n",
       "       'High-resolution computer monitor', 'Elevator', 'Shared pool',\n",
       "       'Buzzer/wireless intercom', 'Stand alone steam shower',\n",
       "       'Ground floor access', 'Outdoor parking', 'Toilet paper',\n",
       "       'Hot water kettle', 'Walk-in shower', 'Changing table', 'Internet',\n",
       "       'Air conditioning', 'Fire extinguisher', 'Ceiling fan', 'Iron',\n",
       "       'Wide entryway', 'Wide clearance to shower', 'Ski-in/Ski-out',\n",
       "       'Amazon Echo', 'Fax machine', 'Private gym',\n",
       "       'Extra pillows and blankets', 'Roll-in shower', 'Private entrance',\n",
       "       'Baby monitor', 'Heated towel rack', 'Mountain view',\n",
       "       'Formal dining area', 'Free parking on premises', 'Wifi',\n",
       "       '24-hour check-in', 'First aid kit', 'Private hot tub', 'Bidet',\n",
       "       'Pets live on this property', 'Standing valet', 'Bedroom comforts',\n",
       "       'Day bed', 'Self check-in', 'Smoking allowed', 'Sauna',\n",
       "       'Bathtub with bath chair', 'Private bathroom', 'Hot water',\n",
       "       'Indoor fireplace', 'Lockbox', 'HBO GO',\n",
       "       'Fixed grab bars for shower', 'Beachfront', 'Essentials',\n",
       "       'Exercise equipment', 'Central air conditioning', 'Gym',\n",
       "       'Pocket wifi', 'Sun loungers', 'Paid parking on premises',\n",
       "       'Babysitter recommendations', 'Wheelchair accessible', 'Body soap',\n",
       "       'Accessible-height toilet', 'Alfresco bathtub', 'Safety card',\n",
       "       'Cooking basics', 'Flat path to front door', 'Free street parking',\n",
       "       'Lock on bedroom door', 'Lake access', 'Jetted tub', 'Cat(s)'],\n",
       "      dtype=object)"
      ]
     },
     "execution_count": 7,
     "metadata": {},
     "output_type": "execute_result"
    }
   ],
   "source": [
    "train_features.columns.values"
   ]
  },
  {
   "cell_type": "code",
   "execution_count": 5,
   "metadata": {},
   "outputs": [
    {
     "data": {
      "text/plain": [
       "Index(['longitude', 'accommodates', 'Outdoor seating', 'Pool', 'EV charger',\n",
       "       'Warming drawer', 'Fixed grab bars for toilet', 'Heat lamps',\n",
       "       'Rain shower', 'Sound system', 'Espresso machine', 'Hair dryer',\n",
       "       'Firm mattress', 'Projector and screen', 'Shared gym', 'Washer / Dryer',\n",
       "       'Waterfront', 'Mini fridge', 'Air purifier', 'Table corner guards',\n",
       "       'Beach view', 'Wine cooler', 'Shared hot tub', 'Terrace', 'Doorman',\n",
       "       'Paid parking off premises', 'DVD player', 'Hammock', 'Gas oven',\n",
       "       'Shared pool', 'Stand alone steam shower', 'Outdoor parking',\n",
       "       'Hot water kettle', 'Walk-in shower', 'Ceiling fan', 'Ski-in/Ski-out',\n",
       "       'Amazon Echo', 'Roll-in shower', 'Baby monitor', 'Heated towel rack',\n",
       "       'Mountain view', 'Formal dining area', 'Private hot tub',\n",
       "       'Standing valet', 'Day bed', 'Private bathroom', 'Exercise equipment',\n",
       "       'Central air conditioning', 'Gym', 'Jetted tub'],\n",
       "      dtype='object')"
      ]
     },
     "execution_count": 5,
     "metadata": {},
     "output_type": "execute_result"
    }
   ],
   "source": [
    "from sklearn.linear_model import LinearRegression\n",
    "from sklearn.feature_selection import RFE\n",
    "\n",
    "model = LinearRegression()\n",
    "#backward selection\n",
    "rfe = RFE(model, 50)\n",
    "rfe = rfe.fit(train_features, train_outcome)\n",
    "filterparam = rfe.support_\n",
    "\n",
    "#finding the total columns\n",
    "totalparams = train_features.columns\n",
    "iqmodelparams = totalparams[filterparam]\n",
    "iqmodelparams"
   ]
  },
  {
   "cell_type": "code",
   "execution_count": 8,
   "metadata": {},
   "outputs": [
    {
     "data": {
      "text/plain": [
       "-911.9062229904927"
      ]
     },
     "execution_count": 8,
     "metadata": {},
     "output_type": "execute_result"
    }
   ],
   "source": [
    "from sklearn.neighbors import KNeighborsClassifier\n",
    "from sklearn.preprocessing import MinMaxScaler       # scaling data\n",
    "from sklearn.model_selection import GridSearchCV     # for grid search\n",
    "from sklearn.pipeline import make_pipeline           # for making pipelines\n",
    "from sklearn.feature_selection import SelectPercentile\n",
    "from sklearn.feature_selection import VarianceThreshold\n",
    "from sklearn.preprocessing import PolynomialFeatures\n",
    "from sklearn.model_selection import KFold\n",
    "\n",
    "# define a pipeline\n",
    "pipe = make_pipeline(VarianceThreshold(.1), MinMaxScaler(),SelectPercentile(), KNeighborsClassifier())\n",
    "folds = KFold(n_splits = 10, shuffle = True)\n",
    "\n",
    "# defines a grid to search through\n",
    "param_grid = {\n",
    "              'selectpercentile__percentile':range(10, 30, 5),\n",
    "              'kneighborsclassifier__n_neighbors':range(1, 10),\n",
    "              'kneighborsclassifier__weights':[\"uniform\", \"distance\"]\n",
    "             }\n",
    "\n",
    "# performs a grid search of pipeline\n",
    "knngrid = GridSearchCV(pipe, param_grid,cv = folds, scoring=\"neg_mean_absolute_error\")\n",
    "knnwholemodel = knngrid.fit(train_features, train_outcome)\n",
    "knnwholemodel.score(test_features, test_outcome)\n"
   ]
  },
  {
   "cell_type": "code",
   "execution_count": null,
   "metadata": {},
   "outputs": [],
   "source": [
    "accuracy_score(knnwholemodel.predict(test_features), test_outcome)"
   ]
  },
  {
   "cell_type": "code",
   "execution_count": 63,
   "metadata": {},
   "outputs": [
    {
     "ename": "AttributeError",
     "evalue": "'GridSearchCV' object has no attribute 'named_steps'",
     "output_type": "error",
     "traceback": [
      "\u001b[0;31m---------------------------------------------------------------------------\u001b[0m",
      "\u001b[0;31mAttributeError\u001b[0m                            Traceback (most recent call last)",
      "\u001b[0;32m<ipython-input-63-96f0c76b6643>\u001b[0m in \u001b[0;36m<module>\u001b[0;34m()\u001b[0m\n\u001b[0;32m----> 1\u001b[0;31m \u001b[0mfeatures\u001b[0m \u001b[0;34m=\u001b[0m \u001b[0mknngrid\u001b[0m\u001b[0;34m.\u001b[0m\u001b[0mnamed_steps\u001b[0m\u001b[0;34m[\u001b[0m\u001b[0;34m'feat'\u001b[0m\u001b[0;34m]\u001b[0m\u001b[0;34m\u001b[0m\u001b[0m\n\u001b[0m\u001b[1;32m      2\u001b[0m \u001b[0mlistings_df\u001b[0m\u001b[0;34m.\u001b[0m\u001b[0mcolumns\u001b[0m\u001b[0;34m[\u001b[0m\u001b[0mfeatures\u001b[0m\u001b[0;34m.\u001b[0m\u001b[0mtransform\u001b[0m\u001b[0;34m(\u001b[0m\u001b[0mnp\u001b[0m\u001b[0;34m.\u001b[0m\u001b[0marange\u001b[0m\u001b[0;34m(\u001b[0m\u001b[0mlen\u001b[0m\u001b[0;34m(\u001b[0m\u001b[0mlistings_df\u001b[0m\u001b[0;34m.\u001b[0m\u001b[0mcolumns\u001b[0m\u001b[0;34m)\u001b[0m\u001b[0;34m)\u001b[0m\u001b[0;34m)\u001b[0m\u001b[0;34m]\u001b[0m\u001b[0;34m\u001b[0m\u001b[0m\n",
      "\u001b[0;31mAttributeError\u001b[0m: 'GridSearchCV' object has no attribute 'named_steps'"
     ]
    }
   ],
   "source": []
  },
  {
   "cell_type": "code",
   "execution_count": null,
   "metadata": {},
   "outputs": [],
   "source": [
    "\n"
   ]
  },
  {
   "cell_type": "code",
   "execution_count": null,
   "metadata": {},
   "outputs": [],
   "source": [
    "\n"
   ]
  },
  {
   "cell_type": "code",
   "execution_count": null,
   "metadata": {},
   "outputs": [],
   "source": []
  },
  {
   "cell_type": "code",
   "execution_count": 11,
   "metadata": {},
   "outputs": [
    {
     "data": {
      "text/plain": [
       "-1204.1789109766637"
      ]
     },
     "execution_count": 11,
     "metadata": {},
     "output_type": "execute_result"
    }
   ],
   "source": [
    "from sklearn.ensemble import RandomForestClassifier\n",
    "\n",
    "pipe = make_pipeline(PolynomialFeatures(), VarianceThreshold(.1), MinMaxScaler(), RandomForestClassifier())\n",
    "folds = KFold(n_splits = 10, shuffle = True)\n",
    "\n",
    "param_grid = {\n",
    "              'polynomialfeatures__degree':range(1, 3),\n",
    "              'randomforestclassifier__max_depth': range(1,4),\n",
    "              'randomforestclassifier__min_samples_split': range(2,5),\n",
    "             }\n",
    "\n",
    "rfcgrid = GridSearchCV(pipe, param_grid, cv = folds, scoring=\"neg_mean_absolute_error\")\n",
    "rfcwholemodel = rfcgrid.fit(train_features, train_outcome)\n",
    "rfcwholemodel.score(test_features, test_outcome)\n",
    "\n",
    "\n"
   ]
  },
  {
   "cell_type": "code",
   "execution_count": 14,
   "metadata": {},
   "outputs": [
    {
     "data": {
      "text/plain": [
       "0.04278305963699222"
      ]
     },
     "execution_count": 14,
     "metadata": {},
     "output_type": "execute_result"
    }
   ],
   "source": [
    "accuracy_score(rfcwholemodel.predict(test_features), test_outcome)"
   ]
  },
  {
   "cell_type": "code",
   "execution_count": null,
   "metadata": {},
   "outputs": [],
   "source": [
    "rfcwholemodel.best_params"
   ]
  },
  {
   "cell_type": "code",
   "execution_count": null,
   "metadata": {},
   "outputs": [],
   "source": []
  }
 ],
 "metadata": {
  "kernelspec": {
   "display_name": "Python 3",
   "language": "python",
   "name": "python3"
  },
  "language_info": {
   "codemirror_mode": {
    "name": "ipython",
    "version": 3
   },
   "file_extension": ".py",
   "mimetype": "text/x-python",
   "name": "python",
   "nbconvert_exporter": "python",
   "pygments_lexer": "ipython3",
   "version": "3.6.5"
  }
 },
 "nbformat": 4,
 "nbformat_minor": 2
}
