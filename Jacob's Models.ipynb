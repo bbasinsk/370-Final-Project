{
 "cells": [
  {
   "cell_type": "code",
   "execution_count": 8,
   "metadata": {},
   "outputs": [],
   "source": [
    "import pandas as pd\n",
    "import numpy as np\n",
    "from sklearn.metrics import accuracy_score\n",
    "\n",
    "listings_df = pd.read_csv('./data/with_amenities_and_estimated_income.csv', low_memory = False)\n",
    "#listings_df.columns.values\n",
    "missing_values_count = listings_df.isnull().sum()\n",
    "missing_values_count\n",
    "\n",
    "listings_df = listings_df[np.isfinite(listings_df['estimated_income_per_month'])]\n",
    "\n",
    "numerics = ['int16', 'int32', 'int64', 'float16', 'float32', 'float64']\n",
    "\n",
    "listings_df = listings_df._get_numeric_data()\n",
    "\n",
    "#thresh = len(listings_df) * .95\n",
    "#listings_df = listings_df.dropna(thresh = thresh, axis = 1, inplace = True)\n",
    "\n",
    "listings_df = listings_df[listings_df.columns[listings_df.isnull().mean() < 0.00005]]\n",
    "listings_df = listings_df.dropna(how='any',axis=0) \n",
    "#missing_values_count = listings_df.isnull().sum()\n",
    "#missing_values_count\n",
    "#len(listings)\n"
   ]
  },
  {
   "cell_type": "code",
   "execution_count": 5,
   "metadata": {},
   "outputs": [],
   "source": [
    "from sklearn.model_selection import train_test_split # splitting data\n",
    "\n",
    "train_features, test_features, train_outcome, test_outcome = train_test_split(\n",
    "    listings_df.drop([\"estimated_income_per_month\"], axis=1),\n",
    "    listings_df['estimated_income_per_month'],\n",
    "    test_size=0.30, \n",
    "    random_state=11\n",
    ")\n",
    "\n"
   ]
  },
  {
   "cell_type": "code",
   "execution_count": null,
   "metadata": {},
   "outputs": [],
   "source": [
    "from sklearn.neighbors import KNeighborsClassifier\n",
    "from sklearn.preprocessing import MinMaxScaler       # scaling data\n",
    "from sklearn.model_selection import GridSearchCV     # for grid search\n",
    "from sklearn.pipeline import make_pipeline           # for making pipelines\n",
    "from sklearn.feature_selection import SelectPercentile\n",
    "from sklearn.feature_selection import VarianceThreshold\n",
    "from sklearn.preprocessing import PolynomialFeatures\n",
    "from sklearn.model_selection import KFold\n",
    "\n",
    "# define a pipeline\n",
    "pipe = make_pipeline(VarianceThreshold(.1), MinMaxScaler(), KNeighborsClassifier())\n",
    "folds = KFold(n_splits = 10, shuffle = True)\n",
    "\n",
    "# defines a grid to search through\n",
    "param_grid = {\n",
    "              #'selectpercentile__percentile':range(10, 30, 5),\n",
    "              'kneighborsclassifier__n_neighbors':range(1, 10),\n",
    "              'kneighborsclassifier__weights':[\"uniform\", \"distance\"]\n",
    "             }\n",
    "\n",
    "# performs a grid search of pipeline\n",
    "knngrid = GridSearchCV(pipe, param_grid,cv = folds, scoring=\"neg_mean_absolute_error\")\n",
    "knnwholemodel = knngrid.fit(train_features, train_outcome)\n",
    "knnwholemodel.score(test_features, test_outcome)\n"
   ]
  },
  {
   "cell_type": "code",
   "execution_count": 16,
   "metadata": {},
   "outputs": [
    {
     "data": {
      "text/plain": [
       "{'kneighborsclassifier__n_neighbors': 2,\n",
       " 'kneighborsclassifier__weights': 'uniform',\n",
       " 'selectpercentile__percentile': 10}"
      ]
     },
     "execution_count": 16,
     "metadata": {},
     "output_type": "execute_result"
    }
   ],
   "source": [
    "knnwholemodel."
   ]
  },
  {
   "cell_type": "code",
   "execution_count": null,
   "metadata": {},
   "outputs": [],
   "source": [
    "accuracy_score(knnwholemodel.predict(test_features), test_outcome)"
   ]
  },
  {
   "cell_type": "code",
   "execution_count": 63,
   "metadata": {},
   "outputs": [
    {
     "ename": "AttributeError",
     "evalue": "'GridSearchCV' object has no attribute 'named_steps'",
     "output_type": "error",
     "traceback": [
      "\u001b[0;31m---------------------------------------------------------------------------\u001b[0m",
      "\u001b[0;31mAttributeError\u001b[0m                            Traceback (most recent call last)",
      "\u001b[0;32m<ipython-input-63-96f0c76b6643>\u001b[0m in \u001b[0;36m<module>\u001b[0;34m()\u001b[0m\n\u001b[0;32m----> 1\u001b[0;31m \u001b[0mfeatures\u001b[0m \u001b[0;34m=\u001b[0m \u001b[0mknngrid\u001b[0m\u001b[0;34m.\u001b[0m\u001b[0mnamed_steps\u001b[0m\u001b[0;34m[\u001b[0m\u001b[0;34m'feat'\u001b[0m\u001b[0;34m]\u001b[0m\u001b[0;34m\u001b[0m\u001b[0m\n\u001b[0m\u001b[1;32m      2\u001b[0m \u001b[0mlistings_df\u001b[0m\u001b[0;34m.\u001b[0m\u001b[0mcolumns\u001b[0m\u001b[0;34m[\u001b[0m\u001b[0mfeatures\u001b[0m\u001b[0;34m.\u001b[0m\u001b[0mtransform\u001b[0m\u001b[0;34m(\u001b[0m\u001b[0mnp\u001b[0m\u001b[0;34m.\u001b[0m\u001b[0marange\u001b[0m\u001b[0;34m(\u001b[0m\u001b[0mlen\u001b[0m\u001b[0;34m(\u001b[0m\u001b[0mlistings_df\u001b[0m\u001b[0;34m.\u001b[0m\u001b[0mcolumns\u001b[0m\u001b[0;34m)\u001b[0m\u001b[0;34m)\u001b[0m\u001b[0;34m)\u001b[0m\u001b[0;34m]\u001b[0m\u001b[0;34m\u001b[0m\u001b[0m\n",
      "\u001b[0;31mAttributeError\u001b[0m: 'GridSearchCV' object has no attribute 'named_steps'"
     ]
    }
   ],
   "source": []
  },
  {
   "cell_type": "code",
   "execution_count": null,
   "metadata": {},
   "outputs": [],
   "source": [
    "\n"
   ]
  },
  {
   "cell_type": "code",
   "execution_count": null,
   "metadata": {},
   "outputs": [],
   "source": [
    "\n"
   ]
  },
  {
   "cell_type": "code",
   "execution_count": null,
   "metadata": {},
   "outputs": [],
   "source": []
  },
  {
   "cell_type": "code",
   "execution_count": 11,
   "metadata": {},
   "outputs": [
    {
     "data": {
      "text/plain": [
       "-1204.1789109766637"
      ]
     },
     "execution_count": 11,
     "metadata": {},
     "output_type": "execute_result"
    }
   ],
   "source": [
    "from sklearn.ensemble import RandomForestClassifier\n",
    "\n",
    "pipe = make_pipeline(PolynomialFeatures(), VarianceThreshold(.1), MinMaxScaler(), RandomForestClassifier())\n",
    "folds = KFold(n_splits = 10, shuffle = True)\n",
    "\n",
    "param_grid = {\n",
    "              'polynomialfeatures__degree':range(1, 3),\n",
    "              'randomforestclassifier__max_depth': range(1,4),\n",
    "              'randomforestclassifier__min_samples_split': range(2,5),\n",
    "             }\n",
    "\n",
    "rfcgrid = GridSearchCV(pipe, param_grid, cv = folds, scoring=\"neg_mean_absolute_error\")\n",
    "rfcwholemodel = rfcgrid.fit(train_features, train_outcome)\n",
    "rfcwholemodel.score(test_features, test_outcome)\n",
    "\n",
    "\n"
   ]
  },
  {
   "cell_type": "code",
   "execution_count": 14,
   "metadata": {},
   "outputs": [
    {
     "data": {
      "text/plain": [
       "0.04278305963699222"
      ]
     },
     "execution_count": 14,
     "metadata": {},
     "output_type": "execute_result"
    }
   ],
   "source": [
    "accuracy_score(rfcwholemodel.predict(test_features), test_outcome)"
   ]
  },
  {
   "cell_type": "code",
   "execution_count": null,
   "metadata": {},
   "outputs": [],
   "source": [
    "rfcwholemodel.best_params"
   ]
  },
  {
   "cell_type": "code",
   "execution_count": null,
   "metadata": {},
   "outputs": [],
   "source": []
  }
 ],
 "metadata": {
  "kernelspec": {
   "display_name": "Python 3",
   "language": "python",
   "name": "python3"
  },
  "language_info": {
   "codemirror_mode": {
    "name": "ipython",
    "version": 3
   },
   "file_extension": ".py",
   "mimetype": "text/x-python",
   "name": "python",
   "nbconvert_exporter": "python",
   "pygments_lexer": "ipython3",
   "version": "3.6.5"
  }
 },
 "nbformat": 4,
 "nbformat_minor": 2
}
