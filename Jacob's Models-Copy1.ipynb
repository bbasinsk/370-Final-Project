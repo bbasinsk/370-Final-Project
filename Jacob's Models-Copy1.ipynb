{
 "cells": [
  {
   "cell_type": "code",
   "execution_count": 32,
   "metadata": {},
   "outputs": [],
   "source": [
    "import pandas as pd\n",
    "import numpy as np\n",
    "\n",
    "# Read csv\n",
    "listings_df = pd.read_csv('./data/with_amenities_and_estimated_income.csv', low_memory = False)\n",
    "\n",
    "# Drop columns that aren't related to income or not feasible to capture from user\n",
    "columns_to_drop = ['Unnamed: 0', 'id', 'scrape_id', 'host_id', 'host_total_listings_count',\n",
    "                  'latitude', 'longitude', 'availability_30', 'availability_60', 'availability_90',\n",
    "                  'availability_365', 'number_of_reviews', 'calculated_host_listings_count', \n",
    "                  'reviews_per_month', 'Other', 'listing_url', 'last_scraped', 'host_name',\n",
    "                  'experiences_offered', 'picture_url', 'name', 'host_url', 'host_since',\n",
    "                  'host_is_superhost', 'host_thumbnail_url', 'host_picture_url', 'host_listings_count',\n",
    "                  'host_verifications', 'host_has_profile_pic', 'host_identity_verified', 'street',\n",
    "                  'city', 'neighbourhood_group_cleansed', 'smart_location', 'country_code',\n",
    "                  'country', 'is_location_exact', 'amenities', 'price', 'calendar_updated', 'has_availability',\n",
    "                  'calendar_last_scraped', 'first_review', 'last_review', 'requires_license',\n",
    "                  'jurisdiction_names', 'instant_bookable', 'is_business_travel_ready',\n",
    "                  'cancellation_policy', 'require_guest_profile_picture', 'require_guest_phone_verification',\n",
    "                  'translation missing: en.hosting_amenity_49', 'summary', 'space', 'description',\n",
    "                  'neighborhood_overview', 'notes', 'transit', 'access', 'interaction', 'house_rules',\n",
    "                  'thumbnail_url', 'medium_url', 'xl_picture_url', 'host_location', 'host_about',\n",
    "                  'host_response_time', 'host_response_rate', 'host_acceptance_rate', 'state',\n",
    "                  'neighbourhood_cleansed', 'host_neighbourhood', 'license', 'review_scores_rating',\n",
    "                  'review_scores_accuracy', 'review_scores_cleanliness', 'review_scores_checkin',\n",
    "                  'review_scores_communication', 'review_scores_location', 'review_scores_value',\n",
    "                  'weekly_price', 'monthly_price', 'security_deposit', 'cleaning_fee', 'market']\n",
    "for col in columns_to_drop:\n",
    "    listings_df.drop([col], axis=1, inplace=True)\n",
    "\n",
    "# Remove rows that don't have an estimated income per month\n",
    "listings_df = listings_df[~pd.isna(listings_df['estimated_income_per_month'])]\n",
    "\n",
    "# Dropping square feet because 7450 out of 7712 (97%) rows are null\n",
    "listings_df.drop(['square_feet'], axis=1, inplace=True)\n",
    "\n",
    "# Fill values going forward\n",
    "listings_df.fillna(method ='ffill', inplace=True)\n",
    "\n",
    "# Convert zipcode to string rather than float\n",
    "listings_df['zipcode'] = listings_df['zipcode'].astype('int').astype('str')\n",
    "\n",
    "# Convert $ amount for extra people from string to float\n",
    "listings_df['extra_people'] = listings_df['extra_people'].apply(lambda s: s[1:]).astype('float')\n"
   ]
  },
  {
   "cell_type": "code",
   "execution_count": 33,
   "metadata": {},
   "outputs": [],
   "source": [
    "listings_df = pd.get_dummies(listings_df)\n",
    "\n",
    "estimated_income = listings_df['estimated_income_per_month']\n",
    "listings_df = listings_df.drop(['estimated_income_per_month'], axis=1)"
   ]
  },
  {
   "cell_type": "code",
   "execution_count": null,
   "metadata": {},
   "outputs": [],
   "source": []
  },
  {
   "cell_type": "code",
   "execution_count": 34,
   "metadata": {},
   "outputs": [],
   "source": [
    "from sklearn.model_selection import train_test_split # splitting data\n",
    "\n",
    "train_features, test_features, train_outcome, test_outcome = train_test_split(\n",
    "    listings_df,\n",
    "    estimated_income,\n",
    "    test_size=0.20, \n",
    "    random_state=11\n",
    ")\n"
   ]
  },
  {
   "cell_type": "code",
   "execution_count": 35,
   "metadata": {},
   "outputs": [
    {
     "data": {
      "text/plain": [
       "Index(['accommodates', 'Outdoor seating', 'Pool', 'EV charger',\n",
       "       'Warming drawer', 'Heat lamps', 'Rain shower', 'Sound system',\n",
       "       'Building staff', 'Firm mattress', 'Projector and screen',\n",
       "       'En suite bathroom', 'Shared gym', 'Bathroom essentials', 'Balcony',\n",
       "       'Washer / Dryer', 'Waterfront', 'Mini fridge', 'Soaking tub',\n",
       "       'Host greets you', 'Table corner guards', 'Beach view',\n",
       "       'Shared hot tub', 'Hangers', 'Terrace', 'Disabled parking spot',\n",
       "       'Doorman', 'Paid parking off premises', 'Netflix', 'Printer',\n",
       "       'Breakfast table', 'Heated floors', 'Shared pool',\n",
       "       'Stand alone steam shower', 'Ground floor access', 'Toilet paper',\n",
       "       'Hot water kettle', 'Ski-in/Ski-out', 'Amazon Echo', 'Fax machine',\n",
       "       'Baby monitor', 'Heated towel rack', 'Mountain view',\n",
       "       'Formal dining area', 'Private hot tub', 'Standing valet',\n",
       "       'Bedroom comforts', 'Day bed', 'Self check-in',\n",
       "       'Bathtub with bath chair', 'Beachfront', 'Central air conditioning',\n",
       "       'Body soap', 'Alfresco bathtub', 'Jetted tub', 'neighbourhood_Belltown',\n",
       "       'neighbourhood_Brighton', 'neighbourhood_Cedar Park',\n",
       "       'neighbourhood_Central Business District', 'neighbourhood_Fauntleroy',\n",
       "       'neighbourhood_Industrial District',\n",
       "       'neighbourhood_International District',\n",
       "       'neighbourhood_Lower Queen Anne', 'neighbourhood_Madison Park',\n",
       "       'neighbourhood_Pike Place Market', 'neighbourhood_Pioneer Square',\n",
       "       'neighbourhood_Queen Anne', 'neighbourhood_Rainier Beach',\n",
       "       'neighbourhood_Rainier View', 'neighbourhood_South Beacon Hill',\n",
       "       'neighbourhood_South Lake Union', 'neighbourhood_Westlake',\n",
       "       'neighbourhood_Yesler Terrace', 'zipcode_98052', 'zipcode_98101',\n",
       "       'zipcode_98102', 'zipcode_98104', 'zipcode_98110', 'zipcode_98112',\n",
       "       'zipcode_98122', 'zipcode_98134', 'zipcode_98155',\n",
       "       'property_type_Apartment', 'property_type_Bed and breakfast',\n",
       "       'property_type_Boat', 'property_type_Boutique hotel',\n",
       "       'property_type_Camper/RV', 'property_type_Castle',\n",
       "       'property_type_Condominium', 'property_type_Cottage',\n",
       "       'property_type_Farm stay', 'property_type_Guest suite',\n",
       "       'property_type_Hostel', 'property_type_House',\n",
       "       'property_type_Houseboat', 'property_type_Serviced apartment',\n",
       "       'property_type_Treehouse', 'property_type_Villa',\n",
       "       'room_type_Entire home/apt', 'bed_type_Couch'],\n",
       "      dtype='object')"
      ]
     },
     "execution_count": 35,
     "metadata": {},
     "output_type": "execute_result"
    }
   ],
   "source": [
    "from sklearn.linear_model import LinearRegression\n",
    "from sklearn.feature_selection import RFE\n",
    "\n",
    "model = LinearRegression()\n",
    "#backward selection\n",
    "rfe = RFE(model, 100)\n",
    "rfe = rfe.fit(train_features, train_outcome)\n",
    "filterparam = rfe.support_\n",
    "\n",
    "#finding the total columns\n",
    "totalparams = train_features.columns\n",
    "iqmodelparams = totalparams[filterparam]\n",
    "iqmodelparams"
   ]
  },
  {
   "cell_type": "code",
   "execution_count": 36,
   "metadata": {},
   "outputs": [],
   "source": [
    "listings_df['estimated_income_per_month'] = estimated_income\n",
    "top_features_df = listings_df[['accommodates', 'Outdoor seating', 'Pool', 'EV charger',\n",
    "       'Warming drawer', 'Heat lamps', 'Rain shower', 'Sound system',\n",
    "       'Building staff', 'Firm mattress', 'Projector and screen',\n",
    "       'En suite bathroom', 'Shared gym', 'Bathroom essentials', 'Balcony',\n",
    "       'Washer / Dryer', 'Waterfront', 'Mini fridge', 'Soaking tub',\n",
    "       'Host greets you', 'Table corner guards', 'Beach view',\n",
    "       'Shared hot tub', 'Hangers', 'Terrace', 'Disabled parking spot',\n",
    "       'Doorman', 'Paid parking off premises', 'Netflix', 'Printer',\n",
    "       'Breakfast table', 'Heated floors', 'Shared pool',\n",
    "       'Stand alone steam shower', 'Ground floor access', 'Toilet paper',\n",
    "       'Hot water kettle', 'Ski-in/Ski-out', 'Amazon Echo', 'Fax machine',\n",
    "       'Baby monitor', 'Heated towel rack', 'Mountain view',\n",
    "       'Formal dining area', 'Private hot tub', 'Standing valet',\n",
    "       'Bedroom comforts', 'Day bed', 'Self check-in',\n",
    "       'Bathtub with bath chair', 'Beachfront', 'Central air conditioning',\n",
    "       'Body soap', 'Alfresco bathtub', 'Jetted tub', 'neighbourhood_Belltown',\n",
    "       'neighbourhood_Brighton', 'neighbourhood_Cedar Park',\n",
    "       'neighbourhood_Central Business District', 'neighbourhood_Fauntleroy',\n",
    "       'neighbourhood_Industrial District',\n",
    "       'neighbourhood_International District',\n",
    "       'neighbourhood_Lower Queen Anne', 'neighbourhood_Madison Park',\n",
    "       'neighbourhood_Pike Place Market', 'neighbourhood_Pioneer Square',\n",
    "       'neighbourhood_Queen Anne', 'neighbourhood_Rainier Beach',\n",
    "       'neighbourhood_Rainier View', 'neighbourhood_South Beacon Hill',\n",
    "       'neighbourhood_South Lake Union', 'neighbourhood_Westlake',\n",
    "       'neighbourhood_Yesler Terrace', 'zipcode_98052', 'zipcode_98101',\n",
    "       'zipcode_98102', 'zipcode_98104', 'zipcode_98110', 'zipcode_98112',\n",
    "       'zipcode_98122', 'zipcode_98134', 'zipcode_98155',\n",
    "       'property_type_Apartment', 'property_type_Bed and breakfast',\n",
    "       'property_type_Boat', 'property_type_Boutique hotel',\n",
    "       'property_type_Camper/RV', 'property_type_Castle',\n",
    "       'property_type_Condominium', 'property_type_Cottage',\n",
    "       'property_type_Farm stay', 'property_type_Guest suite',\n",
    "       'property_type_Hostel', 'property_type_House',\n",
    "       'property_type_Houseboat', 'property_type_Serviced apartment',\n",
    "       'property_type_Treehouse', 'property_type_Villa',\n",
    "       'room_type_Entire home/apt', 'bed_type_Couch', 'estimated_income_per_month']].copy()\n"
   ]
  },
  {
   "cell_type": "code",
   "execution_count": 37,
   "metadata": {},
   "outputs": [
    {
     "data": {
      "text/plain": [
       "101"
      ]
     },
     "execution_count": 37,
     "metadata": {},
     "output_type": "execute_result"
    }
   ],
   "source": [
    "top_train_features, top_test_features, top_train_outcome, top_test_outcome = train_test_split(\n",
    "    top_features_df.drop(['estimated_income_per_month'], axis=1),\n",
    "    top_features_df['estimated_income_per_month'],\n",
    "    test_size=0.20, \n",
    "    random_state=11\n",
    ")\n",
    "len(top_features_df.columns.values)"
   ]
  },
  {
   "cell_type": "code",
   "execution_count": 38,
   "metadata": {},
   "outputs": [
    {
     "data": {
      "text/plain": [
       "-1064.0642737233477"
      ]
     },
     "execution_count": 38,
     "metadata": {},
     "output_type": "execute_result"
    }
   ],
   "source": [
    "from sklearn.neighbors import KNeighborsRegressor\n",
    "from sklearn.preprocessing import MinMaxScaler       # scaling data\n",
    "from sklearn.model_selection import GridSearchCV     # for grid search\n",
    "from sklearn.pipeline import Pipeline                # for making pipelines\n",
    "from sklearn.feature_selection import SelectPercentile\n",
    "from sklearn.feature_selection import VarianceThreshold\n",
    "from sklearn.preprocessing import PolynomialFeatures\n",
    "from sklearn.model_selection import KFold\n",
    "\n",
    "scaler = MinMaxScaler()\n",
    "select = SelectPercentile()\n",
    "\n",
    "# define a pipeline\n",
    "pipe = Pipeline([('scaler', scaler), ('KNeighborsRegressor', KNeighborsRegressor())])\n",
    "\n",
    "folds = KFold(n_splits = 10, shuffle = True)\n",
    "\n",
    "# # defines a grid to search through\n",
    "param_grid = {\n",
    "#     'selectpercentile__percentile':range(10, 30, 5),\n",
    "    'KNeighborsRegressor__n_neighbors': [3, 75, 211],\n",
    "    'KNeighborsRegressor__weights':[\"uniform\", \"distance\"]\n",
    "}\n",
    "\n",
    "# performs a grid search of pipeline\n",
    "knngrid = GridSearchCV(pipe, param_grid,cv = folds, scoring=\"neg_mean_absolute_error\")\n",
    "knnwholemodel = knngrid.fit(top_train_features, top_train_outcome)\n",
    "knnwholemodel.score(top_test_features, top_test_outcome)"
   ]
  },
  {
   "cell_type": "code",
   "execution_count": 217,
   "metadata": {},
   "outputs": [
    {
     "data": {
      "text/plain": [
       "Pipeline(memory=None,\n",
       "     steps=[('scaler', MinMaxScaler(copy=True, feature_range=(0, 1))), ('KNeighborsRegressor', KNeighborsRegressor(algorithm='auto', leaf_size=30, metric='minkowski',\n",
       "          metric_params=None, n_jobs=1, n_neighbors=75, p=2,\n",
       "          weights='distance'))])"
      ]
     },
     "execution_count": 217,
     "metadata": {},
     "output_type": "execute_result"
    }
   ],
   "source": [
    "knniqwholemodel.best_estimator_"
   ]
  },
  {
   "cell_type": "code",
   "execution_count": 206,
   "metadata": {},
   "outputs": [
    {
     "name": "stderr",
     "output_type": "stream",
     "text": [
      "/anaconda3/lib/python3.7/site-packages/scipy/stats/stats.py:1713: FutureWarning: Using a non-tuple sequence for multidimensional indexing is deprecated; use `arr[tuple(seq)]` instead of `arr[seq]`. In the future this will be interpreted as an array index, `arr[np.array(seq)]`, which will result either in an error or a different result.\n",
      "  return np.add.reduce(sorted[indexer] * weights, axis=axis) / sumval\n"
     ]
    },
    {
     "data": {
      "text/plain": [
       "['accommodates',\n",
       " 'bathrooms',\n",
       " 'bedrooms',\n",
       " 'beds',\n",
       " 'guests_included',\n",
       " 'minimum_nights',\n",
       " 'Pool',\n",
       " 'High chair',\n",
       " 'Warming drawer',\n",
       " 'Heat lamps',\n",
       " 'Sound system',\n",
       " 'Espresso machine',\n",
       " 'Building staff',\n",
       " 'Hair dryer',\n",
       " 'Shampoo',\n",
       " 'En suite bathroom',\n",
       " 'Balcony',\n",
       " 'Soaking tub',\n",
       " 'Crib',\n",
       " 'Table corner guards',\n",
       " 'Beach view',\n",
       " 'Wine cooler',\n",
       " 'Smoke detector',\n",
       " 'Hangers',\n",
       " 'Terrace',\n",
       " 'DVD player',\n",
       " 'Hammock',\n",
       " 'Heating',\n",
       " 'Gas oven',\n",
       " 'Printer',\n",
       " 'Smart TV',\n",
       " 'Elevator',\n",
       " 'Buzzer/wireless intercom',\n",
       " 'Outdoor parking',\n",
       " 'Hot water kettle',\n",
       " 'Walk-in shower',\n",
       " 'Changing table',\n",
       " 'Ceiling fan',\n",
       " 'Ski-in/Ski-out',\n",
       " 'Amazon Echo',\n",
       " 'Private gym',\n",
       " 'Baby monitor',\n",
       " 'Formal dining area',\n",
       " 'Bathtub with bath chair',\n",
       " 'Private bathroom',\n",
       " 'Hot water',\n",
       " 'Beachfront',\n",
       " 'Essentials',\n",
       " 'Exercise equipment',\n",
       " 'Gym',\n",
       " 'Sun loungers',\n",
       " 'neighbourhood_Arbor Heights',\n",
       " 'neighbourhood_Belltown',\n",
       " 'neighbourhood_Cedar Park',\n",
       " 'neighbourhood_Central Business District',\n",
       " 'neighbourhood_First Hill',\n",
       " 'neighbourhood_Gatewood',\n",
       " 'neighbourhood_Holly Park',\n",
       " 'neighbourhood_International District',\n",
       " 'neighbourhood_Pike Place Market',\n",
       " 'neighbourhood_Pinehurst',\n",
       " 'neighbourhood_Roxhill',\n",
       " 'neighbourhood_Seaview',\n",
       " 'neighbourhood_South Lake Union',\n",
       " 'neighbourhood_South Park',\n",
       " 'neighbourhood_The Junction',\n",
       " 'neighbourhood_Westlake',\n",
       " 'zipcode_98052',\n",
       " 'zipcode_98101',\n",
       " 'zipcode_98104',\n",
       " 'zipcode_98121',\n",
       " 'zipcode_98136',\n",
       " 'zipcode_98146',\n",
       " 'property_type_Bed and breakfast',\n",
       " 'property_type_Cabin',\n",
       " 'property_type_Hostel',\n",
       " 'property_type_House',\n",
       " 'property_type_Serviced apartment',\n",
       " 'property_type_Villa',\n",
       " 'room_type_Entire home/apt',\n",
       " 'room_type_Private room',\n",
       " 'room_type_Shared room',\n",
       " 'bed_type_Airbed']"
      ]
     },
     "execution_count": 206,
     "metadata": {},
     "output_type": "execute_result"
    }
   ],
   "source": [
    "# selected_threshold = knniqwholemodel.best_estimator_.named_steps['threshold'].get_support()\n",
    "# selected_threshold_columns = list()\n",
    "# for i in range(len(selected_threshold)):\n",
    "#     if (selected_threshold[i]):\n",
    "#         selected_threshold_columns.append(test_features.columns.values[i])\n",
    "        \n",
    "# selected_threshold_columns\n",
    "\n",
    "selected_columns = knniqwholemodel.best_estimator_.named_steps['selectpercentile'].get_support()\n",
    "selected_k_best_columns = list()\n",
    "for i in range(len(selected_columns)):\n",
    "    if (selected_columns[i]):\n",
    "        selected_k_best_columns.append(test_features.columns.values[i])\n",
    "\n",
    "selected_k_best_columns"
   ]
  },
  {
   "cell_type": "code",
   "execution_count": 207,
   "metadata": {},
   "outputs": [
    {
     "data": {
      "text/plain": [
       "-1306.9369057908384"
      ]
     },
     "execution_count": 207,
     "metadata": {},
     "output_type": "execute_result"
    }
   ],
   "source": [
    "knniqwholemodel.best_score_"
   ]
  },
  {
   "cell_type": "code",
   "execution_count": null,
   "metadata": {},
   "outputs": [],
   "source": []
  }
 ],
 "metadata": {
  "kernelspec": {
   "display_name": "Python 3",
   "language": "python",
   "name": "python3"
  },
  "language_info": {
   "codemirror_mode": {
    "name": "ipython",
    "version": 3
   },
   "file_extension": ".py",
   "mimetype": "text/x-python",
   "name": "python",
   "nbconvert_exporter": "python",
   "pygments_lexer": "ipython3",
   "version": "3.6.5"
  }
 },
 "nbformat": 4,
 "nbformat_minor": 2
}
